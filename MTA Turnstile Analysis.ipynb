{
 "cells": [
  {
   "cell_type": "code",
   "execution_count": 184,
   "metadata": {
    "collapsed": false,
    "scrolled": true
   },
   "outputs": [],
   "source": [
    "import pandas as pd\n",
    "import datetime"
   ]
  },
  {
   "cell_type": "code",
   "execution_count": 185,
   "metadata": {
    "collapsed": true
   },
   "outputs": [],
   "source": [
    "mta = pd.read_csv(\"MTA/turnstile_160109.txt\")\n",
    "mta = mta.head(100)\n",
    "#mta"
   ]
  },
  {
   "cell_type": "code",
   "execution_count": 186,
   "metadata": {
    "collapsed": false
   },
   "outputs": [],
   "source": [
    "mta['key'] = zip(mta['C/A'], mta['UNIT'], mta['SCP'], mta['STATION'])"
   ]
  },
  {
   "cell_type": "code",
   "execution_count": 187,
   "metadata": {
    "collapsed": false
   },
   "outputs": [
    {
     "data": {
      "text/plain": [
       "{}"
      ]
     },
     "execution_count": 187,
     "metadata": {},
     "output_type": "execute_result"
    }
   ],
   "source": [
    "mta_dict = {}\n",
    "mta_dict"
   ]
  },
  {
   "cell_type": "code",
   "execution_count": 188,
   "metadata": {
    "collapsed": false
   },
   "outputs": [],
   "source": [
    "for index, row in mta.iterrows():\n",
    "    value = row[4:11].tolist()\n",
    "    key = row['key']\n",
    "    #print key, value\n",
    "    \n",
    "    if key in mta_dict:\n",
    "        mta_dict[key].append(value)\n",
    "        \n",
    "    else:\n",
    "        mta_dict[key] = [value]\n",
    "        "
   ]
  },
  {
   "cell_type": "code",
   "execution_count": 189,
   "metadata": {
    "collapsed": false
   },
   "outputs": [],
   "source": [
    "## Step 1 dictionary:\n",
    "#mta_dict"
   ]
  },
  {
   "cell_type": "code",
   "execution_count": 190,
   "metadata": {
    "collapsed": false
   },
   "outputs": [],
   "source": [
    "## Step 2: Time Series data from MTA data frame\n",
    "\n",
    "mta['datetime'] = pd.to_datetime(mta.DATE + mta.TIME, format='%m/%d/%Y%H:%M:%S')\n",
    "#mta"
   ]
  },
  {
   "cell_type": "code",
   "execution_count": 191,
   "metadata": {
    "collapsed": false
   },
   "outputs": [],
   "source": [
    "datetime_dict = {}\n",
    "for index, row in mta.iterrows():\n",
    "    value = row['datetime'], row['ENTRIES']\n",
    "    key = row['key']\n",
    "    #print key, value\n",
    "    \n",
    "    if key in datetime_dict:\n",
    "        datetime_dict[key].append(value)\n",
    "        \n",
    "    else:\n",
    "        datetime_dict[key] = [value]\n",
    "        "
   ]
  },
  {
   "cell_type": "code",
   "execution_count": 193,
   "metadata": {
    "collapsed": false
   },
   "outputs": [
    {
     "data": {
      "text/plain": [
       "{('A002',\n",
       "  'R051',\n",
       "  '02-00-00',\n",
       "  '59 ST'): [(Timestamp('2016-01-02 03:00:00'),\n",
       "   5478180), (Timestamp('2016-01-02 07:00:00'), 5478183), (Timestamp('2016-01-02 11:00:00'),\n",
       "   5478262), (Timestamp('2016-01-02 15:00:00'),\n",
       "   5478519), (Timestamp('2016-01-02 19:00:00'), 5478940), (Timestamp('2016-01-02 23:00:00'),\n",
       "   5479213), (Timestamp('2016-01-03 03:00:00'),\n",
       "   5479279), (Timestamp('2016-01-03 07:00:00'), 5479282), (Timestamp('2016-01-03 11:00:00'),\n",
       "   5479344), (Timestamp('2016-01-03 15:00:00'),\n",
       "   5479558), (Timestamp('2016-01-03 19:00:00'), 5479861), (Timestamp('2016-01-03 23:00:00'),\n",
       "   5480016), (Timestamp('2016-01-04 03:00:00'),\n",
       "   5480037), (Timestamp('2016-01-04 07:00:00'), 5480054), (Timestamp('2016-01-04 11:00:00'),\n",
       "   5480267), (Timestamp('2016-01-04 15:00:00'),\n",
       "   5480499), (Timestamp('2016-01-04 19:00:00'), 5481461), (Timestamp('2016-01-04 23:00:00'),\n",
       "   5481770), (Timestamp('2016-01-05 03:00:00'),\n",
       "   5481795), (Timestamp('2016-01-05 07:00:00'), 5481808), (Timestamp('2016-01-05 11:00:00'),\n",
       "   5481983), (Timestamp('2016-01-05 15:00:00'),\n",
       "   5482235), (Timestamp('2016-01-05 19:00:00'), 5483044), (Timestamp('2016-01-05 23:00:00'),\n",
       "   5483391), (Timestamp('2016-01-06 03:00:00'),\n",
       "   5483436), (Timestamp('2016-01-06 07:00:00'), 5483458), (Timestamp('2016-01-06 11:00:00'),\n",
       "   5483626), (Timestamp('2016-01-06 15:00:00'),\n",
       "   5483826), (Timestamp('2016-01-06 19:00:00'), 5484778), (Timestamp('2016-01-06 23:00:00'),\n",
       "   5485169), (Timestamp('2016-01-07 03:00:00'),\n",
       "   5485220), (Timestamp('2016-01-07 07:00:00'), 5485234), (Timestamp('2016-01-07 11:00:00'),\n",
       "   5485391), (Timestamp('2016-01-07 15:00:00'),\n",
       "   5485637), (Timestamp('2016-01-07 19:00:00'), 5486605), (Timestamp('2016-01-07 23:00:00'),\n",
       "   5487003), (Timestamp('2016-01-08 03:00:00'),\n",
       "   5487058), (Timestamp('2016-01-08 07:00:00'), 5487070), (Timestamp('2016-01-08 11:00:00'),\n",
       "   5487262), (Timestamp('2016-01-08 15:00:00'),\n",
       "   5487542), (Timestamp('2016-01-08 19:00:00'), 5488493), (Timestamp('2016-01-08 23:00:00'),\n",
       "   5488911)],\n",
       " ('A002',\n",
       "  'R051',\n",
       "  '02-00-01',\n",
       "  '59 ST'): [(Timestamp('2016-01-02 03:00:00'),\n",
       "   5043901), (Timestamp('2016-01-02 07:00:00'), 5043902), (Timestamp('2016-01-02 11:00:00'),\n",
       "   5043952), (Timestamp('2016-01-02 15:00:00'),\n",
       "   5044212), (Timestamp('2016-01-02 19:00:00'), 5044570), (Timestamp('2016-01-02 23:00:00'),\n",
       "   5044805), (Timestamp('2016-01-03 03:00:00'),\n",
       "   5044855), (Timestamp('2016-01-03 07:00:00'), 5044861), (Timestamp('2016-01-03 11:00:00'),\n",
       "   5044910), (Timestamp('2016-01-03 15:00:00'),\n",
       "   5045107), (Timestamp('2016-01-03 19:00:00'), 5045365), (Timestamp('2016-01-03 23:00:00'),\n",
       "   5045524), (Timestamp('2016-01-04 03:00:00'),\n",
       "   5045544), (Timestamp('2016-01-04 07:00:00'), 5045556), (Timestamp('2016-01-04 11:00:00'),\n",
       "   5045752), (Timestamp('2016-01-04 15:00:00'),\n",
       "   5045931), (Timestamp('2016-01-04 19:00:00'), 5046781), (Timestamp('2016-01-04 23:00:00'),\n",
       "   5047052), (Timestamp('2016-01-05 03:00:00'),\n",
       "   5047075), (Timestamp('2016-01-05 07:00:00'), 5047088), (Timestamp('2016-01-05 11:00:00'),\n",
       "   5047273), (Timestamp('2016-01-05 15:00:00'),\n",
       "   5047506), (Timestamp('2016-01-05 19:00:00'), 5048246), (Timestamp('2016-01-05 23:00:00'),\n",
       "   5048498), (Timestamp('2016-01-06 03:00:00'),\n",
       "   5048523), (Timestamp('2016-01-06 07:00:00'), 5048541), (Timestamp('2016-01-06 11:00:00'),\n",
       "   5048693), (Timestamp('2016-01-06 15:00:00'),\n",
       "   5048867), (Timestamp('2016-01-06 19:00:00'), 5049669), (Timestamp('2016-01-06 23:00:00'),\n",
       "   5049982), (Timestamp('2016-01-07 03:00:00'),\n",
       "   5050020), (Timestamp('2016-01-07 07:00:00'), 5050034), (Timestamp('2016-01-07 11:00:00'),\n",
       "   5050193), (Timestamp('2016-01-07 15:00:00'),\n",
       "   5050379), (Timestamp('2016-01-07 19:00:00'), 5051141), (Timestamp('2016-01-07 23:00:00'),\n",
       "   5051423), (Timestamp('2016-01-08 03:00:00'),\n",
       "   5051466), (Timestamp('2016-01-08 07:00:00'), 5051485), (Timestamp('2016-01-08 11:00:00'),\n",
       "   5051628), (Timestamp('2016-01-08 15:00:00'),\n",
       "   5051827), (Timestamp('2016-01-08 19:00:00'), 5052608), (Timestamp('2016-01-08 23:00:00'),\n",
       "   5052955)],\n",
       " ('A002',\n",
       "  'R051',\n",
       "  '02-03-00',\n",
       "  '59 ST'): [(Timestamp('2016-01-02 03:00:00'),\n",
       "   624457), (Timestamp('2016-01-02 07:00:00'), 624459), (Timestamp('2016-01-02 11:00:00'),\n",
       "   624481), (Timestamp('2016-01-02 15:00:00'),\n",
       "   624573), (Timestamp('2016-01-02 19:00:00'), 624764), (Timestamp('2016-01-02 23:00:00'),\n",
       "   624887), (Timestamp('2016-01-03 03:00:00'),\n",
       "   624921), (Timestamp('2016-01-03 07:00:00'), 624922), (Timestamp('2016-01-03 11:00:00'),\n",
       "   624941), (Timestamp('2016-01-03 15:00:00'),\n",
       "   625016), (Timestamp('2016-01-03 19:00:00'), 625126), (Timestamp('2016-01-03 23:00:00'),\n",
       "   625211), (Timestamp('2016-01-04 03:00:00'),\n",
       "   625217), (Timestamp('2016-01-04 07:00:00'), 625224), (Timestamp('2016-01-04 11:00:00'),\n",
       "   625305), (Timestamp('2016-01-04 15:00:00'), 625380)]}"
      ]
     },
     "execution_count": 193,
     "metadata": {},
     "output_type": "execute_result"
    }
   ],
   "source": [
    "# Step 2\n",
    "datetime_dict"
   ]
  },
  {
   "cell_type": "code",
   "execution_count": 261,
   "metadata": {
    "collapsed": false
   },
   "outputs": [
    {
     "name": "stdout",
     "output_type": "stream",
     "text": [
      "[(datetime.date(2016, 1, 4), 163), (datetime.date(2016, 1, 3), 290), (datetime.date(2016, 1, 2), 430)]\n"
     ]
    }
   ],
   "source": [
    "def count_day(my_list):\n",
    "    ## Get unique values of dates\n",
    "    dates = [row[0].date() for row in my_list]\n",
    "    dates = set(dates)\n",
    "    #print dates\n",
    "    \n",
    "    result = []\n",
    "    for date in dates:\n",
    "        entries = [x[1] for x in my_list if x[0].date() == date]\n",
    "        result.append((date, max(entries)-min(entries)))\n",
    "        \n",
    "    print result\n",
    "    \n",
    "count_day(datetime_dict[('A002', 'R051', '02-03-00', '59 ST')])\n"
   ]
  },
  {
   "cell_type": "code",
   "execution_count": null,
   "metadata": {
    "collapsed": true
   },
   "outputs": [],
   "source": []
  },
  {
   "cell_type": "code",
   "execution_count": null,
   "metadata": {
    "collapsed": true
   },
   "outputs": [],
   "source": []
  }
 ],
 "metadata": {
  "kernelspec": {
   "display_name": "Python 2",
   "language": "python",
   "name": "python2"
  },
  "language_info": {
   "codemirror_mode": {
    "name": "ipython",
    "version": 2
   },
   "file_extension": ".py",
   "mimetype": "text/x-python",
   "name": "python",
   "nbconvert_exporter": "python",
   "pygments_lexer": "ipython2",
   "version": "2.7.10"
  }
 },
 "nbformat": 4,
 "nbformat_minor": 0
}
